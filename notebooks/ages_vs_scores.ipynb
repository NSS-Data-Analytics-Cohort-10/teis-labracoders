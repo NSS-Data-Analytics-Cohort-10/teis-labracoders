{
 "cells": [
  {
   "cell_type": "markdown",
   "metadata": {},
   "source": [
    "**Question:** Does a child's age seem to impact their scoring in the The Tennessee Early Intervention System (TEIS) Battelle Developmental Inventory, Third Edition (BDI-3) Eligibility Evaluation?"
   ]
  },
  {
   "cell_type": "code",
   "execution_count": null,
   "metadata": {
    "vscode": {
     "languageId": "plaintext"
    }
   },
   "outputs": [],
   "source": []
  }
 ],
 "metadata": {
  "language_info": {
   "name": "python"
  }
 },
 "nbformat": 4,
 "nbformat_minor": 2
}
